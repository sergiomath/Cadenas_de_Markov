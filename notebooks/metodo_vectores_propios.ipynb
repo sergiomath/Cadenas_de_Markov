{
 "cells": [
  {
   "cell_type": "markdown",
   "metadata": {},
   "source": [
    "# Método 1: Vectores Propios\n",
    "\n",
    "Distribución estacionaria π mediante **πP = π**"
   ]
  },
  {
   "cell_type": "code",
   "execution_count": 1,
   "metadata": {},
   "outputs": [],
   "source": [
    "import sys, os\n",
    "sys.path.append(os.path.join(os.path.dirname('__file__'), '..'))\n",
    "\n",
    "from src.markov_matrix import crear_matriz_probabilidad, calcular_distribucion_metodo_autovalores\n",
    "import numpy as np\n",
    "import pandas as pd\n",
    "import time"
   ]
  },
  {
   "cell_type": "markdown",
   "metadata": {},
   "source": [
    "## Benchmark: Variación de n y p"
   ]
  },
  {
   "cell_type": "code",
   "execution_count": null,
   "metadata": {},
   "outputs": [],
   "source": [
    "max_n = 200\n",
    "grid_n = np.arange(10, max_n)\n",
    "grid_p = np.arange(0.1, 1, 0.1)"
   ]
  },
  {
   "cell_type": "code",
   "execution_count": 3,
   "metadata": {},
   "outputs": [
    {
     "name": "stdout",
     "output_type": "stream",
     "text": [
      "           n=10      n=20      n=30      n=40      n=50      n=60      n=70  \\\n",
      "p=0.1  0.006462  0.000161  0.000207  0.000185  0.000382  0.000525  0.000787   \n",
      "p=0.2  0.000112  0.000081  0.000143  0.000278  0.000429  0.000710  0.000978   \n",
      "p=0.3  0.000112  0.000088  0.000152  0.000336  0.000436  0.000653  0.001037   \n",
      "p=0.4  0.000190  0.000165  0.000272  0.000443  0.000637  0.001042  0.001356   \n",
      "p=0.5  0.000151  0.000172  0.000255  0.000345  0.000518  0.000817  0.001109   \n",
      "p=0.6  0.000175  0.000167  0.000320  0.000382  0.000435  0.000837  0.001005   \n",
      "p=0.7  0.000169  0.000089  0.000223  0.000271  0.000446  0.000606  0.001118   \n",
      "p=0.8  0.000152  0.000149  0.000358  0.000304  0.000474  0.000621  0.000891   \n",
      "p=0.9  0.000086  0.000060  0.000115  0.000181  0.000279  0.000443  0.000835   \n",
      "\n",
      "           n=80      n=90     n=100     n=110     n=120     n=130     n=140  \\\n",
      "p=0.1  0.000997  0.001478  0.001740  0.002176  0.002644  0.034735  0.010160   \n",
      "p=0.2  0.001424  0.001209  0.001657  0.002142  0.003041  0.008315  0.009628   \n",
      "p=0.3  0.001468  0.001893  0.002720  0.004387  0.005605  0.012602  0.013342   \n",
      "p=0.4  0.001863  0.002492  0.003269  0.004221  0.004250  0.009295  0.009979   \n",
      "p=0.5  0.001480  0.002027  0.002646  0.003380  0.004256  0.007710  0.005339   \n",
      "p=0.6  0.001291  0.001917  0.002408  0.003075  0.004223  0.009005  0.009580   \n",
      "p=0.7  0.001590  0.001546  0.002032  0.003821  0.005199  0.010599  0.011160   \n",
      "p=0.8  0.001209  0.001670  0.002116  0.002762  0.003426  0.008068  0.012566   \n",
      "p=0.9  0.001296  0.001729  0.002275  0.002916  0.003563  0.011098  0.009790   \n",
      "\n",
      "          n=150     n=160     n=170     n=180     n=190  \n",
      "p=0.1  0.014456  0.013498  0.008147  0.006852  0.006831  \n",
      "p=0.2  0.011890  0.010858  0.012614  0.018120  0.020719  \n",
      "p=0.3  0.015370  0.017637  0.016111  0.018656  0.027471  \n",
      "p=0.4  0.010854  0.011697  0.012787  0.013771  0.019347  \n",
      "p=0.5  0.007919  0.008043  0.009792  0.011482  0.020755  \n",
      "p=0.6  0.015013  0.012756  0.013475  0.013780  0.019918  \n",
      "p=0.7  0.009892  0.012217  0.016597  0.013421  0.016183  \n",
      "p=0.8  0.011407  0.012501  0.012408  0.013158  0.014523  \n",
      "p=0.9  0.010801  0.012431  0.016452  0.013897  0.017941  \n"
     ]
    }
   ],
   "source": [
    "matriz_tiempos = np.zeros((len(grid_p), len(grid_n)))\n",
    "\n",
    "for i, p in enumerate(grid_p):\n",
    "    for j, n in enumerate(grid_n):\n",
    "        matriz = crear_matriz_probabilidad(n, p)\n",
    "        \n",
    "        start = time.time()\n",
    "        pi = calcular_distribucion_metodo_autovalores(matriz)\n",
    "        tiempo = time.time() - start\n",
    "        \n",
    "        matriz_tiempos[i, j] = tiempo\n",
    "\n",
    "df_tiempos = pd.DataFrame(\n",
    "    matriz_tiempos, \n",
    "    index=[f'p={p:.1f}' for p in grid_p],\n",
    "    columns=[f'n={n}' for n in grid_n]\n",
    ")\n",
    "\n",
    "print(df_tiempos)"
   ]
  },
  {
   "cell_type": "code",
   "execution_count": 4,
   "metadata": {},
   "outputs": [
    {
     "name": "stdout",
     "output_type": "stream",
     "text": [
      "Resultados guardados en resultados/matriz_tiempos_vectores_propios.csv\n"
     ]
    }
   ],
   "source": [
    "df_tiempos.to_csv('../resultados/matriz_tiempos_vectores_propios.csv')\n",
    "print(\"Resultados guardados en resultados/matriz_tiempos_vectores_propios.csv\")"
   ]
  }
 ],
 "metadata": {
  "kernelspec": {
   "display_name": "base",
   "language": "python",
   "name": "python3"
  },
  "language_info": {
   "codemirror_mode": {
    "name": "ipython",
    "version": 3
   },
   "file_extension": ".py",
   "mimetype": "text/x-python",
   "name": "python",
   "nbconvert_exporter": "python",
   "pygments_lexer": "ipython3",
   "version": "3.13.5"
  }
 },
 "nbformat": 4,
 "nbformat_minor": 4
}
