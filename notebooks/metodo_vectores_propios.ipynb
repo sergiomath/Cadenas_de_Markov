{
 "cells": [
  {
   "cell_type": "markdown",
   "metadata": {},
   "source": [
    "# Distribución Estacionaria por Vectores Propios\n",
    "\n",
    "Calcular la distribución estacionaria π de una cadena de Markov:\n",
    "\n",
    "**πP = π**\n",
    "\n",
    "donde π es el vector propio asociado al valor propio 1, con componentes que suman 1.\n",
    "\n"
   ]
  },
  {
   "cell_type": "code",
   "execution_count": 2,
   "metadata": {},
   "outputs": [
    {
     "name": "stdout",
     "output_type": "stream",
     "text": [
      "❌ CuPy instalado pero faltan librerías CUDA\n",
      "💡 Instale CUDA Toolkit completo o use modo CPU\n",
      "💡 Alternativa: ejecute en Google Colab o entorno con CUDA completo\n",
      "🔄 Usando solo cálculos en CPU\n"
     ]
    }
   ],
   "source": [
    "import sys\n",
    "import os\n",
    "sys.path.append(os.path.join(os.path.dirname('__file__'), '..'))\n",
    "\n",
    "from src.markov_matrix import crear_matriz_probabilidad\n",
    "from src.markov_matrix import calcular_distribucion_metodo_autovalores\n",
    "import numpy as np\n",
    "import pandas as pd\n",
    "import matplotlib.pyplot as plt\n",
    "import time\n"
   ]
  },
  {
   "cell_type": "markdown",
   "metadata": {},
   "source": [
    "## Análisis de Tiempos: Variando n (tamaño de la cadena) y P la probabilidad"
   ]
  },
  {
   "cell_type": "code",
   "execution_count": 3,
   "metadata": {},
   "outputs": [],
   "source": [
    "# Crear un grid para n de 1 en 1 hasta 1000\n",
    "max_n = 1000\n",
    "fixed_interval_p = 0.1\n",
    "grid_n = np.arange(1,max_n)\n",
    "grid_p = np.arange(0.1,1,fixed_interval_p)\n",
    "tiempos_n = []"
   ]
  },
  {
   "cell_type": "code",
   "execution_count": 4,
   "metadata": {},
   "outputs": [
    {
     "ename": "KeyboardInterrupt",
     "evalue": "",
     "output_type": "error",
     "traceback": [
      "\u001b[0;31m---------------------------------------------------------------------------\u001b[0m",
      "\u001b[0;31mKeyboardInterrupt\u001b[0m                         Traceback (most recent call last)",
      "Cell \u001b[0;32mIn[4], line 13\u001b[0m\n\u001b[1;32m     11\u001b[0m \u001b[38;5;66;03m# Medir tiempo de ejecución\u001b[39;00m\n\u001b[1;32m     12\u001b[0m start_time \u001b[38;5;241m=\u001b[39m time\u001b[38;5;241m.\u001b[39mtime()\n\u001b[0;32m---> 13\u001b[0m pi \u001b[38;5;241m=\u001b[39m calcular_distribucion_metodo_autovalores(matriz)\n\u001b[1;32m     14\u001b[0m tiempo \u001b[38;5;241m=\u001b[39m time\u001b[38;5;241m.\u001b[39mtime() \u001b[38;5;241m-\u001b[39m start_time\n\u001b[1;32m     16\u001b[0m \u001b[38;5;66;03m# Guardar en la matriz\u001b[39;00m\n",
      "File \u001b[0;32m/mnt/c/Users/sergi/OneDrive - Universidad Nacional de Colombia/Documentos/proyectos/Cadenas_de_Markov/notebooks/../src/markov_matrix.py:83\u001b[0m, in \u001b[0;36mcalcular_distribucion_metodo_autovalores\u001b[0;34m(matriz)\u001b[0m\n\u001b[1;32m     68\u001b[0m \u001b[38;5;250m\u001b[39m\u001b[38;5;124;03m\"\"\"\u001b[39;00m\n\u001b[1;32m     69\u001b[0m \u001b[38;5;124;03mCalcula la distribución estacionaria usando vectores propios (Método 1).\u001b[39;00m\n\u001b[1;32m     70\u001b[0m \u001b[38;5;124;03m\u001b[39;00m\n\u001b[0;32m   (...)\u001b[0m\n\u001b[1;32m     79\u001b[0m \u001b[38;5;124;03m    numpy.ndarray: Distribución estacionaria π normalizada\u001b[39;00m\n\u001b[1;32m     80\u001b[0m \u001b[38;5;124;03m\"\"\"\u001b[39;00m\n\u001b[1;32m     81\u001b[0m \u001b[38;5;66;03m# Para πP = π, necesitamos el vector propio izquierdo de P\u001b[39;00m\n\u001b[1;32m     82\u001b[0m \u001b[38;5;66;03m# Esto equivale al vector propio derecho de P^T\u001b[39;00m\n\u001b[0;32m---> 83\u001b[0m valores_propios, vectores_propios \u001b[38;5;241m=\u001b[39m np\u001b[38;5;241m.\u001b[39mlinalg\u001b[38;5;241m.\u001b[39meig(matriz\u001b[38;5;241m.\u001b[39mT)\n\u001b[1;32m     85\u001b[0m \u001b[38;5;66;03m# Buscar el valor propio más cercano a 1\u001b[39;00m\n\u001b[1;32m     86\u001b[0m indice_1 \u001b[38;5;241m=\u001b[39m np\u001b[38;5;241m.\u001b[39margmin(np\u001b[38;5;241m.\u001b[39mabs(valores_propios \u001b[38;5;241m-\u001b[39m \u001b[38;5;241m1.0\u001b[39m))\n",
      "File \u001b[0;32m~/anaconda3/lib/python3.13/site-packages/numpy/linalg/_linalg.py:1489\u001b[0m, in \u001b[0;36meig\u001b[0;34m(a)\u001b[0m\n\u001b[1;32m   1485\u001b[0m signature \u001b[38;5;241m=\u001b[39m \u001b[38;5;124m'\u001b[39m\u001b[38;5;124mD->DD\u001b[39m\u001b[38;5;124m'\u001b[39m \u001b[38;5;28;01mif\u001b[39;00m isComplexType(t) \u001b[38;5;28;01melse\u001b[39;00m \u001b[38;5;124m'\u001b[39m\u001b[38;5;124md->DD\u001b[39m\u001b[38;5;124m'\u001b[39m\n\u001b[1;32m   1486\u001b[0m \u001b[38;5;28;01mwith\u001b[39;00m errstate(call\u001b[38;5;241m=\u001b[39m_raise_linalgerror_eigenvalues_nonconvergence,\n\u001b[1;32m   1487\u001b[0m               invalid\u001b[38;5;241m=\u001b[39m\u001b[38;5;124m'\u001b[39m\u001b[38;5;124mcall\u001b[39m\u001b[38;5;124m'\u001b[39m, over\u001b[38;5;241m=\u001b[39m\u001b[38;5;124m'\u001b[39m\u001b[38;5;124mignore\u001b[39m\u001b[38;5;124m'\u001b[39m, divide\u001b[38;5;241m=\u001b[39m\u001b[38;5;124m'\u001b[39m\u001b[38;5;124mignore\u001b[39m\u001b[38;5;124m'\u001b[39m,\n\u001b[1;32m   1488\u001b[0m               under\u001b[38;5;241m=\u001b[39m\u001b[38;5;124m'\u001b[39m\u001b[38;5;124mignore\u001b[39m\u001b[38;5;124m'\u001b[39m):\n\u001b[0;32m-> 1489\u001b[0m     w, vt \u001b[38;5;241m=\u001b[39m _umath_linalg\u001b[38;5;241m.\u001b[39meig(a, signature\u001b[38;5;241m=\u001b[39msignature)\n\u001b[1;32m   1491\u001b[0m \u001b[38;5;28;01mif\u001b[39;00m \u001b[38;5;129;01mnot\u001b[39;00m isComplexType(t) \u001b[38;5;129;01mand\u001b[39;00m \u001b[38;5;28mall\u001b[39m(w\u001b[38;5;241m.\u001b[39mimag \u001b[38;5;241m==\u001b[39m \u001b[38;5;241m0.0\u001b[39m):\n\u001b[1;32m   1492\u001b[0m     w \u001b[38;5;241m=\u001b[39m w\u001b[38;5;241m.\u001b[39mreal\n",
      "\u001b[0;31mKeyboardInterrupt\u001b[0m: "
     ]
    }
   ],
   "source": [
    "# Crear matriz para almacenar los tiempos\n",
    "# Filas: valores de p, Columnas: valores de n\n",
    "matriz_tiempos = np.zeros((len(grid_p), len(grid_n)))\n",
    "\n",
    "# Llenar la matriz con los tiempos medidos\n",
    "for i, p in enumerate(grid_p):\n",
    "    for j, n in enumerate(grid_n):\n",
    "        # Crear matriz\n",
    "        matriz = crear_matriz_probabilidad(n, p)\n",
    "        \n",
    "        # Medir tiempo de ejecución\n",
    "        start_time = time.time()\n",
    "        pi = calcular_distribucion_metodo_autovalores(matriz)\n",
    "        tiempo = time.time() - start_time\n",
    "        \n",
    "        # Guardar en la matriz\n",
    "        matriz_tiempos[i, j] = tiempo\n",
    "        \n",
    "\n",
    "# Convertir a DataFrame para mejor visualización\n",
    "df_tiempos = pd.DataFrame(matriz_tiempos, \n",
    "                         index=[f'p={p:.1f}' for p in grid_p],\n",
    "                         columns=[f'n={n}' for n in grid_n])\n",
    "\n"
   ]
  },
  {
   "cell_type": "code",
   "execution_count": null,
   "metadata": {},
   "outputs": [],
   "source": "df_tiempos.to_csv('resultados/matriz_tiempos_vectores_propios.csv')"
  }
 ],
 "metadata": {
  "kernelspec": {
   "display_name": "base",
   "language": "python",
   "name": "python3"
  },
  "language_info": {
   "codemirror_mode": {
    "name": "ipython",
    "version": 3
   },
   "file_extension": ".py",
   "mimetype": "text/x-python",
   "name": "python",
   "nbconvert_exporter": "python",
   "pygments_lexer": "ipython3",
   "version": "3.13.5"
  }
 },
 "nbformat": 4,
 "nbformat_minor": 4
}