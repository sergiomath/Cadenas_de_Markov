{
 "cells": [
  {
   "cell_type": "markdown",
   "metadata": {},
   "source": [
    "# Ejercicio 2: Modelo de q-Coloraciones\n",
    "\n",
    "**Estudiantes:**\n",
    "- Sergio Andrés Díaz Vera (seadiazve@unal.edu.co)\n",
    "- Julián Mateo Espinosa Ospina (juespinosao@unal.edu.co)\n",
    "\n",
    "**Curso:** Cadenas de Markov y Aplicaciones (2025-II)\n",
    "\n",
    "## Descripción\n",
    "\n",
    "Implementación del Gibbs Sampler para el modelo de q-coloraciones propias en una rejilla K×K."
   ]
  },
  {
   "cell_type": "code",
   "execution_count": null,
   "metadata": {},
   "outputs": [],
   "source": [
    "import numpy as np\n",
    "import matplotlib.pyplot as plt\n",
    "import sys\n",
    "sys.path.append('.')\n",
    "\n",
    "from src.q_coloraciones import gibbs_sampler_q_coloraciones, es_coloracion_propia, contar_colores\n",
    "from src.visualizacion import visualizar_configuracion, graficar_distribucion_colores"
   ]
  },
  {
   "cell_type": "markdown",
   "metadata": {},
   "source": [
    "## 1. Implementación del Gibbs Sampler para q-coloraciones\n",
    "\n",
    "El algoritmo de Gibbs Sampler para q-coloraciones:\n",
    "\n",
    "1. Inicializa con una coloración válida (tipo tablero de ajedrez para q≥2)\n",
    "2. En cada iteración:\n",
    "   - Selecciona un sitio $(i,j)$ uniformemente al azar\n",
    "   - Identifica los colores prohibidos (usados por vecinos)\n",
    "   - Asigna un color uniformemente de los colores disponibles"
   ]
  },
  {
   "cell_type": "code",
   "execution_count": null,
   "metadata": {},
   "outputs": [],
   "source": [
    "# Parámetros\n",
    "K = 10\n",
    "q = 3\n",
    "T = 10000\n",
    "semilla = 42\n",
    "\n",
    "# Generar configuración\n",
    "config = gibbs_sampler_q_coloraciones(K, q, T, semilla=semilla)\n",
    "\n",
    "print(f\"Configuración generada para K={K}, q={q}, T={T}\")\n",
    "print(f\"¿Es coloración propia?: {es_coloracion_propia(config, q)}\")\n",
    "print(f\"\\nDistribución de colores:\")\n",
    "conteo = contar_colores(config, q)\n",
    "for color in range(q):\n",
    "    print(f\"  Color {color}: {conteo[color]} celdas\")"
   ]
  },
  {
   "cell_type": "code",
   "execution_count": null,
   "metadata": {},
   "outputs": [],
   "source": [
    "# Visualizar configuración\n",
    "visualizar_configuracion(config, titulo=f\"q-coloración: K={K}, q={q}, T={T}\", \n",
    "                        colors=plt.cm.get_cmap('tab10', q))\n",
    "plt.show()"
   ]
  },
  {
   "cell_type": "markdown",
   "metadata": {},
   "source": [
    "## 2. Análisis de convergencia\n",
    "\n",
    "Verificamos la evolución con diferentes valores de T."
   ]
  },
  {
   "cell_type": "code",
   "execution_count": null,
   "metadata": {},
   "outputs": [],
   "source": [
    "# Diferentes tiempos\n",
    "T_valores = [0, 100, 1000, 10000, 100000]\n",
    "K = 10\n",
    "q = 3\n",
    "\n",
    "fig, axes = plt.subplots(2, 3, figsize=(15, 10))\n",
    "axes = axes.flatten()\n",
    "cmap = plt.cm.get_cmap('tab10', q)\n",
    "\n",
    "for idx, T in enumerate(T_valores):\n",
    "    config = gibbs_sampler_q_coloraciones(K, q, T, semilla=42)\n",
    "    conteo = contar_colores(config, q)\n",
    "    \n",
    "    axes[idx].imshow(config, cmap=cmap, interpolation='nearest', vmin=0, vmax=q-1)\n",
    "    axes[idx].set_title(f\"T={T}\")\n",
    "    axes[idx].grid(True, alpha=0.3)\n",
    "\n",
    "axes[-1].axis('off')\n",
    "plt.tight_layout()\n",
    "plt.show()"
   ]
  },
  {
   "cell_type": "markdown",
   "metadata": {},
   "source": [
    "## 3. Múltiples muestras independientes\n",
    "\n",
    "Generamos varias muestras para verificar la variabilidad y uniformidad."
   ]
  },
  {
   "cell_type": "code",
   "execution_count": null,
   "metadata": {},
   "outputs": [],
   "source": [
    "K = 10\n",
    "q = 3\n",
    "T = 10000\n",
    "n_muestras = 6\n",
    "\n",
    "fig, axes = plt.subplots(2, 3, figsize=(15, 10))\n",
    "axes = axes.flatten()\n",
    "cmap = plt.cm.get_cmap('tab10', q)\n",
    "\n",
    "for i in range(n_muestras):\n",
    "    config = gibbs_sampler_q_coloraciones(K, q, T, semilla=i)\n",
    "    conteo = contar_colores(config, q)\n",
    "    \n",
    "    axes[i].imshow(config, cmap=cmap, interpolation='nearest', vmin=0, vmax=q-1)\n",
    "    axes[i].set_title(f\"Muestra {i+1}\")\n",
    "    axes[i].grid(True, alpha=0.3)\n",
    "\n",
    "plt.tight_layout()\n",
    "plt.show()"
   ]
  },
  {
   "cell_type": "markdown",
   "metadata": {},
   "source": [
    "## 4. Análisis de distribución de colores\n",
    "\n",
    "Verificamos que la distribución de colores sea aproximadamente uniforme."
   ]
  },
  {
   "cell_type": "code",
   "execution_count": null,
   "metadata": {},
   "outputs": [],
   "source": [
    "K = 10\n",
    "q = 3\n",
    "T = 10000\n",
    "n_muestras = 100\n",
    "\n",
    "# Acumular conteos\n",
    "conteos_totales = np.zeros(q)\n",
    "\n",
    "for i in range(n_muestras):\n",
    "    config = gibbs_sampler_q_coloraciones(K, q, T, semilla=i)\n",
    "    conteos_totales += contar_colores(config, q)\n",
    "\n",
    "conteos_promedio = conteos_totales / n_muestras\n",
    "\n",
    "print(f\"Distribución promedio de colores (K={K}, q={q}, n={n_muestras}):\")\n",
    "for color in range(q):\n",
    "    esperado = K*K / q\n",
    "    print(f\"  Color {color}: {conteos_promedio[color]:.2f} (esperado: {esperado:.2f})\")\n",
    "\n",
    "# Graficar\n",
    "graficar_distribucion_colores(conteos_promedio, q)\n",
    "plt.axhline(K*K/q, color='r', linestyle='--', label='Uniforme esperado')\n",
    "plt.legend()\n",
    "plt.show()"
   ]
  },
  {
   "cell_type": "markdown",
   "metadata": {},
   "source": [
    "## 5. Comparación para diferentes valores de q\n",
    "\n",
    "Analizamos cómo cambia el comportamiento con diferentes números de colores."
   ]
  },
  {
   "cell_type": "code",
   "execution_count": null,
   "metadata": {},
   "outputs": [],
   "source": [
    "K = 10\n",
    "T = 10000\n",
    "q_valores = [2, 3, 4, 5]\n",
    "\n",
    "fig, axes = plt.subplots(2, 2, figsize=(12, 12))\n",
    "axes = axes.flatten()\n",
    "\n",
    "for idx, q in enumerate(q_valores):\n",
    "    config = gibbs_sampler_q_coloraciones(K, q, T, semilla=42)\n",
    "    cmap = plt.cm.get_cmap('tab10', q)\n",
    "    \n",
    "    axes[idx].imshow(config, cmap=cmap, interpolation='nearest', vmin=0, vmax=q-1)\n",
    "    axes[idx].set_title(f\"q={q}\")\n",
    "    axes[idx].grid(True, alpha=0.3)\n",
    "\n",
    "plt.tight_layout()\n",
    "plt.show()"
   ]
  },
  {
   "cell_type": "code",
   "execution_count": null,
   "metadata": {},
   "outputs": [],
   "source": [
    "# Análisis cuantitativo de uniformidad\n",
    "K = 10\n",
    "T = 10000\n",
    "q_valores = [2, 3, 4, 5, 6, 7, 8, 9, 10]\n",
    "n_muestras = 100\n",
    "\n",
    "varianzas = []\n",
    "\n",
    "for q in q_valores:\n",
    "    conteos_totales = np.zeros(q)\n",
    "    \n",
    "    for i in range(n_muestras):\n",
    "        config = gibbs_sampler_q_coloraciones(K, q, T, semilla=i)\n",
    "        conteos_totales += contar_colores(config, q)\n",
    "    \n",
    "    conteos_promedio = conteos_totales / n_muestras\n",
    "    varianza = np.var(conteos_promedio)\n",
    "    varianzas.append(varianza)\n",
    "\n",
    "print(\"Varianza de la distribución de colores vs q:\")\n",
    "for q, var in zip(q_valores, varianzas):\n",
    "    print(f\"  q={q:2d}: var={var:.2f}\")\n",
    "\n",
    "# Gráfico\n",
    "plt.figure(figsize=(10, 6))\n",
    "plt.plot(q_valores, varianzas, 'o-', linewidth=2, markersize=8)\n",
    "plt.xlabel('q (número de colores)')\n",
    "plt.ylabel('Varianza entre colores')\n",
    "plt.title('Uniformidad de la distribución de colores')\n",
    "plt.grid(True, alpha=0.3)\n",
    "plt.show()"
   ]
  }
 ],
 "metadata": {
  "kernelspec": {
   "display_name": "Python 3",
   "language": "python",
   "name": "python3"
  },
  "language_info": {
   "name": "python",
   "version": "3.11.0"
  }
 },
 "nbformat": 4,
 "nbformat_minor": 4
}
