{
 "cells": [
  {
   "cell_type": "markdown",
   "metadata": {},
   "source": [
    "# Ejercicio 1b: Estimación del Número de Partículas\n",
    "\n",
    "**Estudiantes:**\n",
    "- Sergio Andrés Díaz Vera (seadiazve@unal.edu.co)\n",
    "- Julián Mateo Espinosa Ospina (juespinosao@unal.edu.co)\n",
    "\n",
    "**Curso:** Cadenas de Markov y Aplicaciones (2025-II)\n",
    "\n",
    "## Descripción\n",
    "\n",
    "Análisis sistemático del número típico de partículas en configuraciones Hard-Core para diferentes tamaños de rejilla."
   ]
  },
  {
   "cell_type": "code",
   "execution_count": null,
   "metadata": {},
   "outputs": [],
   "source": [
    "import numpy as np\n",
    "import matplotlib.pyplot as plt\n",
    "import sys\n",
    "sys.path.append('.')\n",
    "\n",
    "from src.hard_core import gibbs_sampler_hard_core, contar_particulas\n",
    "from src.estadisticas import analizar_multiple_K, crear_tabla_estadisticas\n",
    "from src.visualizacion import graficar_escalamiento"
   ]
  },
  {
   "cell_type": "markdown",
   "metadata": {},
   "source": [
    "## 1. Análisis para múltiples tamaños K\n",
    "\n",
    "Analizamos cómo varía el número de partículas con el tamaño de la rejilla."
   ]
  },
  {
   "cell_type": "code",
   "execution_count": null,
   "metadata": {},
   "outputs": [],
   "source": [
    "# Parámetros\n",
    "K_valores = [3, 5, 7, 10, 12, 15, 20]\n",
    "T = 10000\n",
    "n_muestras = 100\n",
    "\n",
    "# Realizar análisis\n",
    "print(\"Analizando diferentes tamaños de rejilla...\")\n",
    "print(\"Esto puede tomar algunos minutos...\\n\")\n",
    "\n",
    "resultados = analizar_multiple_K(K_valores, T, n_muestras)\n",
    "\n",
    "# Mostrar tabla de resultados\n",
    "print(crear_tabla_estadisticas(resultados))"
   ]
  },
  {
   "cell_type": "markdown",
   "metadata": {},
   "source": [
    "## 2. Análisis de escalamiento\n",
    "\n",
    "Graficamos el número medio de partículas vs K² para analizar la relación de escalamiento."
   ]
  },
  {
   "cell_type": "code",
   "execution_count": null,
   "metadata": {},
   "outputs": [],
   "source": [
    "# Extraer medias\n",
    "medias = [resultados[K]['estadisticas']['media'] for K in K_valores]\n",
    "densidades = [resultados[K]['estadisticas']['media'] / (K**2) for K in K_valores]\n",
    "\n",
    "# Gráfico de escalamiento\n",
    "graficar_escalamiento(K_valores, medias)\n",
    "plt.show()\n",
    "\n",
    "# Densidad promedio\n",
    "print(f\"\\nDensidad promedio (ρ = μ/K²):\")\n",
    "for K, rho in zip(K_valores, densidades):\n",
    "    print(f\"K={K:2d}: ρ = {rho:.4f}\")\n",
    "\n",
    "print(f\"\\nDensidad límite estimada: ρ_∞ ≈ {np.mean(densidades[3:]):.4f}\")"
   ]
  },
  {
   "cell_type": "markdown",
   "metadata": {},
   "source": [
    "## 3. Histogramas por tamaño K\n",
    "\n",
    "Visualizamos la distribución del número de partículas para cada tamaño."
   ]
  },
  {
   "cell_type": "code",
   "execution_count": null,
   "metadata": {},
   "outputs": [],
   "source": [
    "fig, axes = plt.subplots(2, 4, figsize=(16, 8))\n",
    "axes = axes.flatten()\n",
    "\n",
    "for idx, K in enumerate(K_valores):\n",
    "    particulas = resultados[K]['particulas']\n",
    "    stats = resultados[K]['estadisticas']\n",
    "    \n",
    "    axes[idx].hist(particulas, bins=20, edgecolor='black', alpha=0.7)\n",
    "    axes[idx].axvline(stats['media'], color='r', linestyle='--', \n",
    "                     label=f\"μ={stats['media']:.1f}\")\n",
    "    axes[idx].set_title(f\"K={K}\")\n",
    "    axes[idx].set_xlabel('Número de partículas')\n",
    "    axes[idx].set_ylabel('Frecuencia')\n",
    "    axes[idx].legend()\n",
    "    axes[idx].grid(True, alpha=0.3)\n",
    "\n",
    "axes[-1].axis('off')\n",
    "plt.tight_layout()\n",
    "plt.show()"
   ]
  },
  {
   "cell_type": "markdown",
   "metadata": {},
   "source": [
    "## 4. Análisis de convergencia detallado\n",
    "\n",
    "Analizamos la convergencia variando el tiempo T para un K fijo."
   ]
  },
  {
   "cell_type": "code",
   "execution_count": null,
   "metadata": {},
   "outputs": [],
   "source": [
    "K = 10\n",
    "T_valores = [100, 500, 1000, 5000, 10000, 50000, 100000]\n",
    "n_muestras = 100\n",
    "\n",
    "medias_T = []\n",
    "stds_T = []\n",
    "\n",
    "for T in T_valores:\n",
    "    particulas = []\n",
    "    for i in range(n_muestras):\n",
    "        config = gibbs_sampler_hard_core(K, T, semilla=i)\n",
    "        particulas.append(contar_particulas(config))\n",
    "    \n",
    "    medias_T.append(np.mean(particulas))\n",
    "    stds_T.append(np.std(particulas))\n",
    "\n",
    "# Tabla de convergencia\n",
    "print(\"Análisis de convergencia para K=10:\\n\")\n",
    "print(\"T\\t\\tMedia\\tStd\\tΔ_t (%)\")\n",
    "print(\"-\" * 50)\n",
    "for i, T in enumerate(T_valores):\n",
    "    if i == 0:\n",
    "        delta = \"---\"\n",
    "    else:\n",
    "        delta = f\"{100*abs(medias_T[i]-medias_T[i-1])/medias_T[i-1]:.1f}\"\n",
    "    print(f\"{T}\\t\\t{medias_T[i]:.2f}\\t{stds_T[i]:.2f}\\t{delta}\")\n",
    "\n",
    "# Gráfico de convergencia\n",
    "fig, (ax1, ax2) = plt.subplots(1, 2, figsize=(14, 5))\n",
    "\n",
    "ax1.semilogx(T_valores, medias_T, 'o-', linewidth=2, markersize=8)\n",
    "ax1.set_xlabel('T (iteraciones)')\n",
    "ax1.set_ylabel('Número medio de partículas')\n",
    "ax1.set_title(f'Convergencia de μ (K={K})')\n",
    "ax1.grid(True, alpha=0.3)\n",
    "\n",
    "ax2.semilogx(T_valores, stds_T, 'o-', color='orange', linewidth=2, markersize=8)\n",
    "ax2.set_xlabel('T (iteraciones)')\n",
    "ax2.set_ylabel('Desviación estándar')\n",
    "ax2.set_title(f'Convergencia de σ (K={K})')\n",
    "ax2.grid(True, alpha=0.3)\n",
    "\n",
    "plt.tight_layout()\n",
    "plt.show()"
   ]
  }
 ],
 "metadata": {
  "kernelspec": {
   "display_name": "Python 3",
   "language": "python",
   "name": "python3"
  },
  "language_info": {
   "name": "python",
   "version": "3.11.0"
  }
 },
 "nbformat": 4,
 "nbformat_minor": 4
}
