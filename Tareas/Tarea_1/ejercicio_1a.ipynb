{
 "cells": [
  {
   "cell_type": "markdown",
   "metadata": {},
   "source": [
    "# Ejercicio 1a: Modelo Hard-Core\n",
    "\n",
    "**Estudiantes:**\n",
    "- Sergio Andrés Díaz Vera (seadiazve@unal.edu.co)\n",
    "- Julián Mateo Espinosa Ospina (juespinosao@unal.edu.co)\n",
    "\n",
    "**Curso:** Cadenas de Markov y Aplicaciones (2025-II)\n",
    "\n",
    "## Descripción\n",
    "\n",
    "Implementación del Gibbs Sampler para el modelo Hard-Core en una rejilla K×K."
   ]
  },
  {
   "cell_type": "code",
   "execution_count": null,
   "metadata": {},
   "outputs": [
    {
     "ename": "",
     "evalue": "",
     "output_type": "error",
     "traceback": [
      "\u001b[1;31mRunning cells with 'Cadenas_de_Markov (Python 3.13.5)' requires the ipykernel package.\n",
      "\u001b[1;31mInstall 'ipykernel' into the Python environment. \n",
      "\u001b[1;31mCommand: '/mnt/e/Git/Cadenas_de_Markov/.venv/bin/python -m pip install ipykernel -U --force-reinstall'"
     ]
    }
   ],
   "source": [
    "import numpy as np\n",
    "import matplotlib.pyplot as plt\n",
    "import sys\n",
    "sys.path.append('.')\n",
    "\n",
    "from src.hard_core import gibbs_sampler_hard_core, es_configuracion_factible, contar_particulas\n",
    "from src.visualizacion import visualizar_configuracion"
   ]
  },
  {
   "cell_type": "markdown",
   "metadata": {},
   "source": [
    "## 1. Implementación del Gibbs Sampler\n",
    "\n",
    "El algoritmo de Gibbs Sampler para el modelo Hard-Core:\n",
    "\n",
    "1. Inicializa con una configuración vacía (todos los sitios en 0)\n",
    "2. En cada iteración:\n",
    "   - Selecciona un sitio $(i,j)$ uniformemente al azar\n",
    "   - Si algún vecino tiene una partícula, asigna 0\n",
    "   - Si no, asigna 0 o 1 con probabilidad 1/2 cada uno"
   ]
  },
  {
   "cell_type": "code",
   "execution_count": null,
   "metadata": {},
   "outputs": [],
   "source": [
    "# Parámetros\n",
    "K = 10\n",
    "T = 10000\n",
    "semilla = 42\n",
    "\n",
    "# Generar configuración\n",
    "config = gibbs_sampler_hard_core(K, T, semilla=semilla)\n",
    "\n",
    "print(f\"Configuración generada para K={K}, T={T}\")\n",
    "print(f\"Número de partículas: {contar_particulas(config)}\")\n",
    "print(f\"¿Es factible?: {es_configuracion_factible(config)}\")"
   ]
  },
  {
   "cell_type": "code",
   "execution_count": null,
   "metadata": {},
   "outputs": [],
   "source": [
    "# Visualizar configuración\n",
    "visualizar_configuracion(config, titulo=f\"Hard-Core: K={K}, T={T}, N={contar_particulas(config)}\")\n",
    "plt.show()"
   ]
  },
  {
   "cell_type": "markdown",
   "metadata": {},
   "source": [
    "## 2. Análisis de convergencia\n",
    "\n",
    "Verificamos cómo evoluciona la cadena con diferentes valores de T."
   ]
  },
  {
   "cell_type": "code",
   "execution_count": null,
   "metadata": {},
   "outputs": [],
   "source": [
    "# Diferentes tiempos\n",
    "T_valores = [0, 100, 1000, 10000, 100000]\n",
    "K = 10\n",
    "\n",
    "fig, axes = plt.subplots(2, 3, figsize=(15, 10))\n",
    "axes = axes.flatten()\n",
    "\n",
    "for idx, T in enumerate(T_valores):\n",
    "    config = gibbs_sampler_hard_core(K, T, semilla=42)\n",
    "    n_part = contar_particulas(config)\n",
    "    \n",
    "    axes[idx].imshow(config, cmap='binary', interpolation='nearest')\n",
    "    axes[idx].set_title(f\"T={T}, N={n_part}\")\n",
    "    axes[idx].grid(True, alpha=0.3)\n",
    "\n",
    "axes[-1].axis('off')\n",
    "plt.tight_layout()\n",
    "plt.show()"
   ]
  },
  {
   "cell_type": "markdown",
   "metadata": {},
   "source": [
    "## 3. Múltiples muestras independientes\n",
    "\n",
    "Generamos varias muestras independientes para verificar la variabilidad."
   ]
  },
  {
   "cell_type": "code",
   "execution_count": null,
   "metadata": {},
   "outputs": [],
   "source": [
    "K = 10\n",
    "T = 10000\n",
    "n_muestras = 6\n",
    "\n",
    "fig, axes = plt.subplots(2, 3, figsize=(15, 10))\n",
    "axes = axes.flatten()\n",
    "\n",
    "for i in range(n_muestras):\n",
    "    config = gibbs_sampler_hard_core(K, T, semilla=i)\n",
    "    n_part = contar_particulas(config)\n",
    "    \n",
    "    axes[i].imshow(config, cmap='binary', interpolation='nearest')\n",
    "    axes[i].set_title(f\"Muestra {i+1}, N={n_part}\")\n",
    "    axes[i].grid(True, alpha=0.3)\n",
    "\n",
    "plt.tight_layout()\n",
    "plt.show()"
   ]
  },
  {
   "cell_type": "markdown",
   "metadata": {},
   "source": [
    "## 4. Distribución del número de partículas\n",
    "\n",
    "Generamos muchas muestras y analizamos la distribución del número de partículas."
   ]
  },
  {
   "cell_type": "code",
   "execution_count": null,
   "metadata": {},
   "outputs": [],
   "source": [
    "K = 10\n",
    "T = 10000\n",
    "n_muestras = 100\n",
    "\n",
    "particulas = []\n",
    "for i in range(n_muestras):\n",
    "    config = gibbs_sampler_hard_core(K, T, semilla=i)\n",
    "    particulas.append(contar_particulas(config))\n",
    "\n",
    "# Estadísticas\n",
    "print(f\"Media: {np.mean(particulas):.2f}\")\n",
    "print(f\"Mediana: {np.median(particulas):.2f}\")\n",
    "print(f\"Desviación estándar: {np.std(particulas):.2f}\")\n",
    "print(f\"Mín: {np.min(particulas)}, Máx: {np.max(particulas)}\")\n",
    "\n",
    "# Histograma\n",
    "plt.figure(figsize=(10, 6))\n",
    "plt.hist(particulas, bins=20, edgecolor='black', alpha=0.7)\n",
    "plt.xlabel('Número de partículas')\n",
    "plt.ylabel('Frecuencia')\n",
    "plt.title(f'Distribución del número de partículas (K={K}, T={T}, n={n_muestras})')\n",
    "plt.axvline(np.mean(particulas), color='r', linestyle='--', label=f'Media={np.mean(particulas):.2f}')\n",
    "plt.legend()\n",
    "plt.grid(True, alpha=0.3)\n",
    "plt.show()"
   ]
  }
 ],
 "metadata": {
  "kernelspec": {
   "display_name": "Cadenas_de_Markov",
   "language": "python",
   "name": "python3"
  },
  "language_info": {
   "name": "python",
   "version": "3.13.5"
  }
 },
 "nbformat": 4,
 "nbformat_minor": 4
}
